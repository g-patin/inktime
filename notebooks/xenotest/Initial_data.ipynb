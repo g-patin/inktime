{
 "cells": [
  {
   "cell_type": "markdown",
   "metadata": {},
   "source": [
    "# Import "
   ]
  },
  {
   "cell_type": "code",
   "execution_count": 8,
   "metadata": {},
   "outputs": [
    {
     "name": "stdout",
     "output_type": "stream",
     "text": [
      "The watermark extension is already loaded. To reload it, use:\n",
      "  %reload_ext watermark\n",
      "The autoreload extension is already loaded. To reload it, use:\n",
      "  %reload_ext autoreload\n"
     ]
    }
   ],
   "source": [
    "%load_ext watermark\n",
    "%load_ext autoreload\n",
    "%autoreload 2\n",
    "#%matplotlib notebook \n",
    "\n",
    "from inktime import palette_plot, primaries, optical_density, transmission   \n",
    "import imageio\n",
    "import matplotlib.pyplot as plt\n",
    "import numpy as np\n",
    "from glob import glob\n",
    "import pandas as pd\n",
    "import colour"
   ]
  },
  {
   "cell_type": "code",
   "execution_count": 7,
   "metadata": {},
   "outputs": [
    {
     "name": "stdout",
     "output_type": "stream",
     "text": [
      "Author: Frank Ligterink and Gauthier Patin\n",
      "\n",
      "Python implementation: CPython\n",
      "Python version       : 3.8.5\n",
      "IPython version      : 7.19.0\n",
      "\n",
      "numpy     : 1.19.2\n",
      "pandas    : 1.1.3\n",
      "matplotlib: 3.3.2\n",
      "imageio   : 2.9.0\n",
      "colour    : 0.3.16\n",
      "\n"
     ]
    }
   ],
   "source": [
    "%watermark -a 'Frank Ligterink and Gauthier Patin' -d -t -v -p numpy,pandas,matplotlib,imageio,colour"
   ]
  },
  {
   "cell_type": "code",
   "execution_count": null,
   "metadata": {},
   "outputs": [],
   "source": []
  },
  {
   "cell_type": "code",
   "execution_count": 2,
   "metadata": {},
   "outputs": [
    {
     "name": "stdout",
     "output_type": "stream",
     "text": [
      "/home/gus/Documents/PhD/PhD_Projects/Part3_MFT_Application/3.4_MFT-external/3.4.9_Inktime_Frank/inktime/data/Processed/RS\n"
     ]
    }
   ],
   "source": [
    "cd /home/gus/Documents/PhD/PhD_Projects/Part3_MFT_Application/3.4_MFT-external/3.4.9_Inktime_Frank/inktime/data/Processed/RS"
   ]
  },
  {
   "cell_type": "code",
   "execution_count": 3,
   "metadata": {},
   "outputs": [],
   "source": [
    "files = glob('*CAL02*')\n",
    "\n",
    "df = pd.read_csv(files[1], header = [0,1])"
   ]
  },
  {
   "cell_type": "code",
   "execution_count": 5,
   "metadata": {},
   "outputs": [
    {
     "data": {
      "text/html": [
       "<div>\n",
       "<style scoped>\n",
       "    .dataframe tbody tr th:only-of-type {\n",
       "        vertical-align: middle;\n",
       "    }\n",
       "\n",
       "    .dataframe tbody tr th {\n",
       "        vertical-align: top;\n",
       "    }\n",
       "\n",
       "    .dataframe thead tr th {\n",
       "        text-align: left;\n",
       "    }\n",
       "</style>\n",
       "<table border=\"1\" class=\"dataframe\">\n",
       "  <thead>\n",
       "    <tr>\n",
       "      <th></th>\n",
       "      <th colspan=\"2\" halign=\"left\">L*</th>\n",
       "      <th colspan=\"2\" halign=\"left\">a*</th>\n",
       "      <th colspan=\"2\" halign=\"left\">b*</th>\n",
       "    </tr>\n",
       "    <tr>\n",
       "      <th></th>\n",
       "      <th>mean</th>\n",
       "      <th>std</th>\n",
       "      <th>mean</th>\n",
       "      <th>std</th>\n",
       "      <th>mean</th>\n",
       "      <th>std</th>\n",
       "    </tr>\n",
       "  </thead>\n",
       "  <tbody>\n",
       "    <tr>\n",
       "      <th>38</th>\n",
       "      <td>72.37</td>\n",
       "      <td>0.045</td>\n",
       "      <td>12.48</td>\n",
       "      <td>0.08</td>\n",
       "      <td>87.15</td>\n",
       "      <td>0.075</td>\n",
       "    </tr>\n",
       "    <tr>\n",
       "      <th>77</th>\n",
       "      <td>72.75</td>\n",
       "      <td>0.000</td>\n",
       "      <td>12.53</td>\n",
       "      <td>0.00</td>\n",
       "      <td>89.32</td>\n",
       "      <td>0.000</td>\n",
       "    </tr>\n",
       "    <tr>\n",
       "      <th>116</th>\n",
       "      <td>74.88</td>\n",
       "      <td>0.000</td>\n",
       "      <td>12.14</td>\n",
       "      <td>0.00</td>\n",
       "      <td>96.34</td>\n",
       "      <td>0.000</td>\n",
       "    </tr>\n",
       "    <tr>\n",
       "      <th>155</th>\n",
       "      <td>75.12</td>\n",
       "      <td>0.000</td>\n",
       "      <td>11.68</td>\n",
       "      <td>0.00</td>\n",
       "      <td>93.36</td>\n",
       "      <td>0.000</td>\n",
       "    </tr>\n",
       "    <tr>\n",
       "      <th>194</th>\n",
       "      <td>74.40</td>\n",
       "      <td>0.000</td>\n",
       "      <td>11.12</td>\n",
       "      <td>0.00</td>\n",
       "      <td>94.78</td>\n",
       "      <td>0.000</td>\n",
       "    </tr>\n",
       "    <tr>\n",
       "      <th>233</th>\n",
       "      <td>75.86</td>\n",
       "      <td>0.000</td>\n",
       "      <td>9.90</td>\n",
       "      <td>0.00</td>\n",
       "      <td>88.82</td>\n",
       "      <td>0.000</td>\n",
       "    </tr>\n",
       "    <tr>\n",
       "      <th>272</th>\n",
       "      <td>77.03</td>\n",
       "      <td>0.000</td>\n",
       "      <td>10.67</td>\n",
       "      <td>0.00</td>\n",
       "      <td>84.51</td>\n",
       "      <td>0.000</td>\n",
       "    </tr>\n",
       "    <tr>\n",
       "      <th>311</th>\n",
       "      <td>78.36</td>\n",
       "      <td>0.000</td>\n",
       "      <td>8.40</td>\n",
       "      <td>0.00</td>\n",
       "      <td>86.05</td>\n",
       "      <td>0.000</td>\n",
       "    </tr>\n",
       "    <tr>\n",
       "      <th>350</th>\n",
       "      <td>79.20</td>\n",
       "      <td>0.000</td>\n",
       "      <td>7.02</td>\n",
       "      <td>0.00</td>\n",
       "      <td>82.54</td>\n",
       "      <td>0.000</td>\n",
       "    </tr>\n",
       "  </tbody>\n",
       "</table>\n",
       "</div>"
      ],
      "text/plain": [
       "        L*            a*           b*       \n",
       "      mean    std   mean   std   mean    std\n",
       "38   72.37  0.045  12.48  0.08  87.15  0.075\n",
       "77   72.75  0.000  12.53  0.00  89.32  0.000\n",
       "116  74.88  0.000  12.14  0.00  96.34  0.000\n",
       "155  75.12  0.000  11.68  0.00  93.36  0.000\n",
       "194  74.40  0.000  11.12  0.00  94.78  0.000\n",
       "233  75.86  0.000   9.90  0.00  88.82  0.000\n",
       "272  77.03  0.000  10.67  0.00  84.51  0.000\n",
       "311  78.36  0.000   8.40  0.00  86.05  0.000\n",
       "350  79.20  0.000   7.02  0.00  82.54  0.000"
      ]
     },
     "execution_count": 5,
     "metadata": {},
     "output_type": "execute_result"
    }
   ],
   "source": [
    "df = df[df['patch']['value'] == 'Y11'] \n",
    "x = df['cum_hrs']['value']\n",
    "y = df['dE00']['mean']\n",
    "df[['L*','a*','b*']]"
   ]
  },
  {
   "cell_type": "code",
   "execution_count": 10,
   "metadata": {},
   "outputs": [
    {
     "data": {
      "text/plain": [
       "[<matplotlib.lines.Line2D at 0x7fe29e5212b0>]"
      ]
     },
     "execution_count": 10,
     "metadata": {},
     "output_type": "execute_result"
    },
    {
     "data": {
      "image/png": "[encoded data removed]",
      "text/plain": [
       "<Figure size 432x288 with 1 Axes>"
      ]
     },
     "metadata": {
      "needs_background": "light"
     },
     "output_type": "display_data"
    }
   ],
   "source": [
    "plt.plot(x,y)"
   ]
  },
  {
   "cell_type": "code",
   "execution_count": null,
   "metadata": {},
   "outputs": [],
   "source": []
  },
  {
   "cell_type": "code",
   "execution_count": null,
   "metadata": {},
   "outputs": [],
   "source": []
  },
  {
   "cell_type": "code",
   "execution_count": null,
   "metadata": {},
   "outputs": [],
   "source": []
  },
  {
   "cell_type": "code",
   "execution_count": null,
   "metadata": {},
   "outputs": [],
   "source": []
  },
  {
   "cell_type": "code",
   "execution_count": null,
   "metadata": {},
   "outputs": [],
   "source": [
    "cd /home/gus/Documents/PhD/PhD_Projects/Part3_MFT_Application/3.4_MFT-external/3.4.9_Inktime_Frank/inktime/data/Processed/Photos"
   ]
  },
  {
   "cell_type": "code",
   "execution_count": null,
   "metadata": {},
   "outputs": [],
   "source": []
  },
  {
   "cell_type": "code",
   "execution_count": null,
   "metadata": {
    "scrolled": false
   },
   "outputs": [],
   "source": [
    "im_file = 'crop_2022-01-27_CAL01_0hr.tif'\n",
    "im = imageio.imread(im_file)[...,:3]\n",
    "\n",
    "im = im[460:1610,800:3770]\n",
    "im = im/ 255\n",
    "\n",
    "fig, ax = plt.subplots(1,1, figsize = (15,6))\n",
    "\n",
    "ax.imshow(im)\n",
    "\n",
    "plt.show()"
   ]
  },
  {
   "cell_type": "code",
   "execution_count": null,
   "metadata": {},
   "outputs": [],
   "source": [
    "im.shape"
   ]
  },
  {
   "cell_type": "code",
   "execution_count": null,
   "metadata": {},
   "outputs": [],
   "source": []
  },
  {
   "cell_type": "code",
   "execution_count": null,
   "metadata": {},
   "outputs": [],
   "source": [
    "palette_plot??"
   ]
  },
  {
   "cell_type": "code",
   "execution_count": null,
   "metadata": {},
   "outputs": [],
   "source": [
    "palette_plot(im)"
   ]
  },
  {
   "cell_type": "code",
   "execution_count": null,
   "metadata": {},
   "outputs": [],
   "source": [
    "M = primaries(im)\n",
    "M"
   ]
  },
  {
   "cell_type": "code",
   "execution_count": null,
   "metadata": {},
   "outputs": [],
   "source": [
    "M_inv = np.linalg.inv(M)\n",
    "M_inv"
   ]
  },
  {
   "cell_type": "code",
   "execution_count": null,
   "metadata": {},
   "outputs": [],
   "source": [
    "od_img = optical_density(im, normalize=False)\n",
    "\n",
    "# temporarily flatten image into list \n",
    "img_shape = od_img.shape\n",
    "od_list = od_img.reshape(-1, 3)\n",
    "\n",
    "# matrix multiplication \n",
    "conc_list = od_list @ M_inv\n",
    "\n",
    "# unflatten list into image \n",
    "concs_img = conc_list.reshape(img_shape)\n",
    "\n",
    "# seperate images for cyan, magenta and yellow \n",
    "cyan_conc_img, magenta_conc_img, yellow_conc_img = concs_img.transpose(2, 0, 1)"
   ]
  },
  {
   "cell_type": "code",
   "execution_count": null,
   "metadata": {},
   "outputs": [],
   "source": [
    "T_cyan = transmission(cyan_conc_img, M[0])\n",
    "T_cyan = np.clip(T_cyan, a_min=0, a_max=1)\n",
    "\n",
    "T_magenta = transmission(magenta_conc_img, M[1])\n",
    "T_magenta = np.clip(T_magenta, a_min=0, a_max=1) \n",
    "\n",
    "T_yellow = transmission(yellow_conc_img, M[2])\n",
    "T_yellow = np.clip(T_yellow, a_min=0, a_max=1)\n",
    "\n",
    "fig, [ax0, ax1, ax2] = plt.subplots(ncols=3, figsize=[9, 3], sharex=True, sharey=True)\n",
    "\n",
    "ax0.imshow(T_cyan)\n",
    "ax0.set_title(f'Cyan layer')\n",
    "ax1.imshow(T_magenta)\n",
    "ax1.set_title('Magenta layer')\n",
    "ax2.imshow(T_yellow);\n",
    "ax2.set_title('Yellow layer');"
   ]
  },
  {
   "cell_type": "code",
   "execution_count": null,
   "metadata": {},
   "outputs": [],
   "source": [
    "cyan_x_magenta_x_yellow = T_cyan * T_magenta * T_yellow \n",
    "\n",
    "fig, [ax0, ax1] = plt.subplots(ncols=2, figsize=[9, 5], sharex=True, sharey=True)\n",
    "\n",
    "ax0.imshow(im)\n",
    "ax1.imshow(cyan_x_magenta_x_yellow)\n",
    "\n",
    "ax0.set_title('Original')\n",
    "ax1.set_title('Reconstruction');"
   ]
  },
  {
   "cell_type": "code",
   "execution_count": null,
   "metadata": {},
   "outputs": [],
   "source": [
    "import pandas as pd\n",
    "import math\n",
    "from math import *"
   ]
  },
  {
   "cell_type": "code",
   "execution_count": null,
   "metadata": {},
   "outputs": [],
   "source": [
    "cd /home/gus/Documents/PhD/PhD_Projects/Part3_MFT_Application/3.4_MFT-external/3.4.9_Chromogenic_Frank/Data/Processed/MFT"
   ]
  },
  {
   "cell_type": "code",
   "execution_count": null,
   "metadata": {},
   "outputs": [],
   "source": [
    "file = glob('*SP*')[0]\n",
    "\n",
    "df = pd.read_csv(file, index_col='wavelength_nm')\n",
    "R = df.iloc[:,0]\n",
    "T = 100-R\n",
    "A = -np.log10(R/100)\n",
    "wl = df.index\n",
    "df"
   ]
  },
  {
   "cell_type": "code",
   "execution_count": null,
   "metadata": {},
   "outputs": [],
   "source": []
  },
  {
   "cell_type": "code",
   "execution_count": null,
   "metadata": {},
   "outputs": [],
   "source": [
    "fig, [ax0,ax1,ax2] = plt.subplots(1,3,figsize = (15,4))\n",
    "\n",
    "ax0.plot(wl,R)\n",
    "ax1.plot(wl,T)\n",
    "ax2.plot(wl,A)"
   ]
  },
  {
   "cell_type": "code",
   "execution_count": null,
   "metadata": {},
   "outputs": [],
   "source": []
  }
 ],
 "metadata": {
  "hide_input": false,
  "kernelspec": {
   "display_name": "Python 3",
   "language": "python",
   "name": "python3"
  },
  "language_info": {
   "codemirror_mode": {
    "name": "ipython",
    "version": 3
   },
   "file_extension": ".py",
   "mimetype": "text/x-python",
   "name": "python",
   "nbconvert_exporter": "python",
   "pygments_lexer": "ipython3",
   "version": "3.8.5"
  },
  "latex_envs": {
   "LaTeX_envs_menu_present": true,
   "autoclose": false,
   "autocomplete": true,
   "bibliofile": "biblio.bib",
   "cite_by": "apalike",
   "current_citInitial": 1,
   "eqLabelWithNumbers": true,
   "eqNumInitial": 1,
   "hotkeys": {
    "equation": "Ctrl-E",
    "itemize": "Ctrl-I"
   },
   "labels_anchors": false,
   "latex_user_defs": false,
   "report_style_numbering": false,
   "user_envs_cfg": false
  },
  "toc": {
   "base_numbering": 1,
   "nav_menu": {},
   "number_sections": true,
   "sideBar": true,
   "skip_h1_title": false,
   "title_cell": "Table of Contents",
   "title_sidebar": "Contents",
   "toc_cell": false,
   "toc_position": {
    "height": "calc(100% - 180px)",
    "left": "10px",
    "top": "150px",
    "width": "165px"
   },
   "toc_section_display": true,
   "toc_window_display": false
  }
 },
 "nbformat": 4,
 "nbformat_minor": 4
}
